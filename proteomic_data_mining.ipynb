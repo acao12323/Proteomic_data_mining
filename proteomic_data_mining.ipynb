{
 "cells": [
  {
   "cell_type": "markdown",
   "metadata": {},
   "source": [
    "# Bioinformatic data minign\n",
    "The goal of this activity is to put into practice the bioinformatics dataa mining skills adquired so far, such as using APIs to access biological and chemical databases and leveraging specielized libraries for data handling."
   ]
  },
  {
   "cell_type": "markdown",
   "metadata": {},
   "source": [
    "### Retrieval information about proteins and chemical compounds\n",
    "\n",
    "In this section, I implemented a function that takes a list of Protein Data Bank (PDB) IDs as input and downloads the corresponding `.cif` files from the PDB database."
   ]
  },
  {
   "cell_type": "code",
   "execution_count": 2,
   "metadata": {},
   "outputs": [
    {
     "name": "stdout",
     "output_type": "stream",
     "text": [
      "CIF file for 1tup downloaded successfully.\n",
      "\n"
     ]
    }
   ],
   "source": [
    "# Importing necessary library\n",
    "import requests\n",
    "    \n",
    "# Base URL for PDB file requests\n",
    "base_url = \"https://www.rcsb.org/pdb/files/\"\n",
    "\n",
    "def cif_downloader(id_list, url):\n",
    "    \"\"\"\n",
    "    Downloads CIF files from the RCSB PDB for a given list of PDB IDs.\n",
    "    \n",
    "    Args:\n",
    "        id_list: A list of PDB IDs (strings)\n",
    "        url: A base url for file requests\n",
    "\n",
    "    Returns:\n",
    "        None\n",
    "    \"\"\"\n",
    "        \n",
    "    for id in id_list:\n",
    "        # Construct the URL for the specific PDB ID\n",
    "        response = requests.get(f\"{base_url}{id}.cif\")\n",
    "        \n",
    "        # Check if the request was succesful\n",
    "        if response.status_code == 200:\n",
    "            # Save the CIF file in chuncks\n",
    "            with open(f\"{id}.cif\", \"wb\") as cif_file:\n",
    "                for chunk in response.iter_content(chunk_size=1024):\n",
    "                    cif_file.write(chunk)\n",
    "            print(f\"CIF file for {id} downloaded successfully.\\n\")\n",
    "        else:\n",
    "            print(f\"Error ({response.status_code}) downloading CIF file for {id}.\")\n",
    "\n",
    "# Ejemplo de uso\n",
    "lista_ids_ejemplo = ['1tup']\n",
    "cif_downloader(lista_ids_ejemplo, base_url)"
   ]
  }
 ],
 "metadata": {
  "kernelspec": {
   "display_name": "actividad1",
   "language": "python",
   "name": "python3"
  },
  "language_info": {
   "codemirror_mode": {
    "name": "ipython",
    "version": 3
   },
   "file_extension": ".py",
   "mimetype": "text/x-python",
   "name": "python",
   "nbconvert_exporter": "python",
   "pygments_lexer": "ipython3",
   "version": "3.11.9"
  }
 },
 "nbformat": 4,
 "nbformat_minor": 2
}
