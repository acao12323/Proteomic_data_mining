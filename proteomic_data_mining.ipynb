{
 "cells": [
  {
   "cell_type": "markdown",
   "metadata": {},
   "source": [
    "# Bioinformatic data minign\n",
    "The goal of this activity is to put into practice the bioinformatics dataa mining skills adquired so far, such as using APIs to access biological and chemical databases and leveraging specielized libraries for data handling."
   ]
  },
  {
   "cell_type": "markdown",
   "metadata": {},
   "source": [
    "### Retrieval information about proteins and chemical compounds\n",
    "\n",
    "In this section, I implemented a function that takes a list of Protein Data Bank (PDB) IDs as input and downloads the corresponding `.cif` files from the PDB database."
   ]
  },
  {
   "cell_type": "code",
   "execution_count": null,
   "metadata": {},
   "outputs": [],
   "source": [
    "# Importing necessary library\n",
    "import requests\n",
    "    \n",
    "# Base URL for PDB file requests\n",
    "base_url = \"https://www.rcsb.org/pdb/files/\"\n",
    "\n",
    "def cif_downloader(id_list, url):\n",
    "    \"\"\"\n",
    "    Downloads CIF files from the RCSB PDB for a given list of PDB IDs.\n",
    "    \n",
    "    Args:\n",
    "        id_list: A list of PDB IDs (strings)\n",
    "        url: A base url for file requests\n",
    "\n",
    "    Returns:\n",
    "        None\n",
    "    \"\"\"\n",
    "        \n",
    "    for id in id_list:\n",
    "        # Construct the URL for the specific PDB ID\n",
    "        response = requests.get(f\"{base_url}{id}.cif\")\n",
    "        \n",
    "        # Check if the request was succesful\n",
    "        if response.status_code == 200:\n",
    "            # Save the CIF file in chuncks\n",
    "            with open(f\"{id}.cif\", \"wb\") as cif_file:\n",
    "                for chunk in response.iter_content(chunk_size=1024):\n",
    "                    cif_file.write(chunk)\n",
    "            print(f\"CIF file for {id} downloaded successfully.\\n\")\n",
    "        else:\n",
    "            print(f\"Error ({response.status_code}) downloading CIF file for {id}.\")\n",
    "\n",
    "# Ejemplo de uso\n",
    "lista_ids_ejemplo = ['1tup']\n",
    "cif_downloader(lista_ids_ejemplo, base_url)"
   ]
  },
  {
   "cell_type": "markdown",
   "metadata": {},
   "source": [
    "Toma el ID 1tup y determina su identificador en UniProt a través de su API.\n",
    "Una vez obtengas el identificador, consulta la información en UniProt,\n",
    "investiga el objeto creado por la llamada y extrae la siguiente información:\n",
    "    \n",
    "    la fecha de publicación de la entrada,\n",
    "    la fecha de la última modificación,\n",
    "    si está manualmente revisada (Swiss-Prot) o si no ha sido revisada (Trembl),\n",
    "    el nombre del gen y sus sinónimos,\n",
    "    el organismo al cual pertenece,\n",
    "    el nombre completo de la proteína,\n",
    "    la secuencia de aminoácidos de una sola letra y los pdb ids asociados a dicha entrada de UniProt.\n",
    "\n",
    "Guarda esta información en un data_1tupFrame de Pandas que contenga las siguientes columnas: \n",
    "['Uniprot_id', 'Fecha_publicacion', 'Fecha_modificacion', 'Revisado', 'Nombre_del_gen',\n",
    "'Sinónimos', 'Organismo', 'PDB_ids'] (2,5)\"\"\""
   ]
  },
  {
   "cell_type": "code",
   "execution_count": null,
   "metadata": {},
   "outputs": [],
   "source": [
    "# Importamos las librerías a usar\n",
    "import pandas as pd\n",
    "import requests\n",
    "\n",
    "# Creamos el df_1tup\n",
    "df_1tup = pd.DataFrame()\n",
    "\n",
    "# Construye la URL sobre la cual se va a llevar a cabo la consulta\n",
    "url = f'https://rest.uniprot.org/uniprotkb/search?query=1tup'\n",
    "\n",
    "# Realiza una solicitud GET para obtener los datos de la proteína\n",
    "response_1tup = requests.get(url)\n",
    "\n",
    "# bajamos los datos\n",
    "if response_1tup.status_code == 200:\n",
    "    data_1tup = response_1tup.json()\n",
    "    \n",
    "    # Iteramos por cada resultado en results\n",
    "    for result in data_1tup[\"results\"]:\n",
    "        # Dado que result[3] no tiene synonyms crea un error\n",
    "        # Por lo tanto definimos la consulta de synonyms\n",
    "        synonyms = result.get(\"genes\", [{}])[0].get(\"synonyms\", [])\n",
    "        \n",
    "        new_row = {\n",
    "            'Uniprot_id' : result[\"uniProtkbId\"],\n",
    "            'Fecha_publicacion' : result[\"entryAudit\"][\"firstPublicDate\"],\n",
    "            'Fecha_modificacion' : result[\"entryAudit\"][\"lastAnnotationUpdateDate\"],\n",
    "            'Revisado' : [\"True\" if \"Swiss-Prot\" in result[\"entryType\"] else \"False\"],\n",
    "            'Nombre_del_gen' : result[\"genes\"][0][\"geneName\"][\"value\"],\n",
    "            'Sinónimos': [synonyms if synonyms else None], # Usamos list comprehension para lidiar con el error\n",
    "            'Organismo' : result[\"organism\"][\"scientificName\"],\n",
    "            # Agregamos la columna Protein_name como el nombre completo de la proteína que se pide en el enuncido\n",
    "            'Protein_name' : result[\"proteinDescription\"][\"recommendedName\"][\"fullName\"][\"value\"],\n",
    "            'PDB_ids' : result[\"primaryAccession\"],\n",
    "            }\n",
    "        df_1tup = pd.concat([df_1tup, pd.DataFrame(new_row, index=[0])], ignore_index=True)\n",
    "else:\n",
    "    print(f\"Error tipo {response_1tup.status_code}\")\n",
    "\n"
   ]
  },
  {
   "cell_type": "markdown",
   "metadata": {},
   "source": [
    "\"\"\"\"C. Investiga en esta entrada de UniProt de la 1tup si hay información sobre algún cofactor.\n",
    "Indica dónde se identifica al cofactor y utiliza la API de PubChem para extraer información sobre:\n",
    "    \n",
    "    su identificador de compuesto en Pubchem (cid),\n",
    "    su peso molecular exacto,\n",
    "    su inchi,\n",
    "    inchikey y\n",
    "    sobre sus nombres según la iupac.\n",
    "    \n",
    "Guarda esta información en un data_1tupFrame que contenga las siguientes columnas:\n",
    "['Compuesto', 'Pubchem_id', 'Peso_molecular', 'Inchi', 'Inchikey', 'Iupac_name'] (1,5"
   ]
  },
  {
   "cell_type": "code",
   "execution_count": null,
   "metadata": {},
   "outputs": [],
   "source": [
    "import pandas as pd\n",
    "import requests\n",
    "\n",
    "# El cofactor es:\n",
    "cofactor = data_1tup.get(\"results\")[5].get(\"comments\")[1].get(\"cofactors\")[0].get(\"name\")\n",
    "chebi_id = data_1tup.get(\"results\")[5].get(\"comments\")[1].get(\"cofactors\")[0].get(\"cofactorCrossReference\").get(\"id\")\n",
    "\n",
    "# Al buscarlo en PubChem encontramos que su CID es 32051\n",
    "url_cofactor = \"https://pubchem.ncbi.nlm.nih.gov/rest/pug_view/data/compound/32051/JSON\"\n",
    "\n",
    "# Creamos el df para el cofactor\n",
    "df_cofactor = pd.DataFrame()\n",
    "\n",
    "# Bajamos la información\n",
    "response_cofactor = requests.get(url_cofactor)\n",
    "\n",
    "if response_cofactor.status_code == 200:\n",
    "    data_cofactor = response_cofactor.json()\n",
    "    \n",
    "    # Recolectamos la información solicitada\n",
    "    new_row = {\n",
    "        \"Compuesto\" : \"CHEBI:29105 - zinc(2+)\",\n",
    "\n",
    "        \"Pubchem_id\" : data_cofactor.get(\"Record\").get(\"RecordNumber\"),\n",
    "        \n",
    "        \"Peso_molecular\" : data_cofactor.get(\"Record\").get(\"Section\")[2].get(\"Section\")[0]\n",
    "                                           .get(\"Section\")[0].get(\"Information\")[0].get(\"Value\")\n",
    "                                           .get(\"StringWithMarkup\")[0].get(\"String\"),\n",
    "        \n",
    "        \"Inchi\" : data_cofactor.get(\"Record\").get(\"Section\")[1].get(\"Section\")[1].get(\"Section\")[1]\n",
    "            .get(\"Information\")[0].get(\"Value\").get(\"StringWithMarkup\")[0].get(\"String\"),\n",
    "        \n",
    "        \"Inchikey\" : data_cofactor.get(\"Record\").get(\"Section\")[1].get(\"Section\")[1].get(\"Section\")[2]\n",
    "            .get(\"Information\")[0].get(\"Value\").get(\"StringWithMarkup\")[0].get(\"String\"),\n",
    "            \n",
    "        \"Iupac_name\" : data_cofactor.get(\"Record\").get(\"Section\")[1].get(\"Section\")[1].get(\"Section\")[0]\n",
    "            .get(\"Information\")[0].get(\"Value\").get(\"StringWithMarkup\")[0].get(\"String\")\n",
    "        }\n",
    "    \n",
    "    # Agregamos al df\n",
    "    df_cofactor = pd.concat([df_cofactor, pd.DataFrame(new_row, index=[0])], ignore_index=True)\n",
    "\n",
    "else:\n",
    "    print(f\"Error tipo {response_cofactor.status_code}\")"
   ]
  },
  {
   "cell_type": "markdown",
   "metadata": {},
   "source": [
    "\"\"\"Biopython y rdkit son librerías muy útiles para manipular datos de origen biológico y químico, respectivamente.\n",
    "Utilízalas para completar estas tareas sobre el archivo 4ogq.cif: \"\"\"\n"
   ]
  },
  {
   "cell_type": "code",
   "execution_count": null,
   "metadata": {},
   "outputs": [],
   "source": [
    "# Reutilizamos la función creada en el punto 1\n",
    "descargar_cifs([\"4ogq\"])\n",
    "\n",
    "\"\"\"A. Parséalo con MMCIFParser() y guarda en una lista todas las heteromoléculas (sin incluir las aguas). (0,5)\"\"\"\n",
    "\n",
    "from Bio.PDB.MMCIFParser import MMCIFParser\n",
    "parser = MMCIFParser(QUIET=True)\n",
    "structure = parser.get_structure('4ogq', \"./4ogq.cif\")\n",
    "\n",
    "heteromoleculas = []\n",
    "for modelo in structure:\n",
    "    for cadena in modelo:\n",
    "        for residuo in cadena:\n",
    "            if residuo.get_resname() != 'HOH': #Todas las heteromoleculas distintas a agua\n",
    "                heteromoleculas.append(residuo.id)\n",
    "\n",
    "print(f\"Hay {len(heteromoleculas)} heteromoleculas en la estructura (sin incluir las aguas)\")\n"
   ]
  },
  {
   "cell_type": "markdown",
   "metadata": {},
   "source": [
    "\"\"\"B. Parseálo con MMCIF2Dict() en un diccionario, extrae la información sobre la clave '_pdbx_entity_nonpoly' \n",
    "y guarda en un DataFrame la información sobre el nombre de cada una de las heteromoléculas,\n",
    "así como su identificador de tres letras. (0,5)\"\"\"\n"
   ]
  },
  {
   "cell_type": "code",
   "execution_count": null,
   "metadata": {},
   "outputs": [],
   "source": [
    "from Bio.PDB.MMCIFParser import MMCIF2Dict\n",
    "import pandas as pd\n",
    "\n",
    "dic_4ogq = MMCIF2Dict(\"./4ogq.cif\")\n",
    "\n",
    "df_4ogp = pd.DataFrame({\"entitty_id\" : dic_4ogq.get(\"_pdbx_entity_nonpoly.entity_id\"),\n",
    "                        \"entity_name\" : dic_4ogq.get(\"_pdbx_entity_nonpoly.name\"),\n",
    "                        \"comp_id\" : dic_4ogq.get(\"_pdbx_entity_nonpoly.comp_id\")})\n"
   ]
  },
  {
   "cell_type": "markdown",
   "metadata": {},
   "source": [
    "\"\"\"C. Toma el nombre de cada heteromolécula y mediante la API de Pubchem consigue su SMILES,\n",
    "para los casos que sea posible.\n",
    "Transforma estos SMILES con rdkit en SDF y añade ambas columnas al DataFrame del Apartado 2B. (1)\"\"\"\n"
   ]
  },
  {
   "cell_type": "code",
   "execution_count": null,
   "metadata": {},
   "outputs": [],
   "source": [
    "import pubchempy as pcp\n",
    "from rdkit import Chem    \n",
    "\n",
    "for index, row in df_4ogp.iterrows():\n",
    "    nombre = row[\"entity_name\"]\n",
    "\n",
    "    try:\n",
    "        # Buscamos en pubchem por el nombre de cada compuesto\n",
    "        compound = pcp.get_compounds(nombre, \"name\")\n",
    "\n",
    "        if compound:\n",
    "            # Tomamos el primer hallazgo de cada busqueda y buscamos los smiles\n",
    "            smiles = compound[0].isomeric_smiles\n",
    "            # Agregamos al df\n",
    "            df_4ogp.loc[index, \"smiles\"] = smiles\n",
    "            \n",
    "            # Convertimos a sdf\n",
    "            mol_smiles = Chem.MolFromSmiles(smiles)\n",
    "            sdf = Chem.MolToMolBlock(mol_smiles)\n",
    "            # Agregamos al df\n",
    "            df_4ogp.loc[index, \"SDF\"] = sdf\n",
    "            \n",
    "    except:\n",
    "        print(f\"Error en: {nombre}\")\n"
   ]
  },
  {
   "cell_type": "markdown",
   "metadata": {},
   "source": [
    "\"\"\"D. Genera un archivo .sdf en el cual guardes todas las moléculas SDF.\n",
    "Añade para cada una de ellas un campo que incluya información sobre su 'Molecular_weight'.\n",
    "Ayúdate de rdkit para calcular dicho campo y asegúrate que el archivo que has creado\n",
    "puede utilizarse para crear un objeto mol de rdkit con cada una de las moléculas. (1,5)\"\"\"\n"
   ]
  }
 ],
 "metadata": {
  "kernelspec": {
   "display_name": "actividad1",
   "language": "python",
   "name": "python3"
  },
  "language_info": {
   "codemirror_mode": {
    "name": "ipython",
    "version": 3
   },
   "file_extension": ".py",
   "mimetype": "text/x-python",
   "name": "python",
   "nbconvert_exporter": "python",
   "pygments_lexer": "ipython3",
   "version": "3.11.9"
  }
 },
 "nbformat": 4,
 "nbformat_minor": 2
}
